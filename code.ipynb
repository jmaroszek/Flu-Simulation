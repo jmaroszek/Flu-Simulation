{
 "cells": [
  {
   "attachments": {},
   "cell_type": "markdown",
   "metadata": {},
   "source": [
    "# Pandemic Flu Spread <br>\n",
    "### Jonah Maroszek <br>\n",
    "\n",
    "### Prompt (Delete Me)\n",
    "Consider a classroom of **21 elementary school kids. 20 of the kids are healthy** (and susceptible to flu) on Day 1. Tommy (the 21st kid) walks in with the flu and starts interacting with his potential victims. <br>\n",
    "\n",
    "To keep things simple, let’s suppose that **Tommy comes to school every day (whether or not he’s sick)** and will be infectious for **3 days** Thus, there are 3 chances for Tommy to infect the other kids — Days 1, 2, and 3. <br>\n",
    "\n",
    "Suppose that the probability that he infects any individual susceptible kid on any of the three days is **p = 0.02**; and suppose that **all kids and days are independent** (so that you have **i.i.d. Bern(p) trials**). <br>\n",
    "\n",
    "**If a kid gets infected by Tommy, he will then become infectious for 3 days as well,starting on the next day.** <br>"
   ]
  },
  {
   "attachments": {},
   "cell_type": "markdown",
   "metadata": {},
   "source": [
    "# Introduction \n",
    "## Assumptions <br>\n",
    "<ul>\n",
    "  <li>Each sick kid has the same chance of infecting healthy kids as tommy: 0.02</li>\n",
    "  <li>Each kid gets sick for the same duration tommy does: 3 days </li>\n",
    "  <li>Tommy is included in the count of sick kids</li>\n",
    "  <li> After a kid gets sick and recovers, they are not susceptible to infection again </li>\n",
    "  <li> The simulation is over when no one is susceptable to infection  </li>\n",
    "</ul>"
   ]
  },
  {
   "attachments": {},
   "cell_type": "markdown",
   "metadata": {},
   "source": [
    "# Simulation \n",
    "## Enter Simulation Parameters \n"
   ]
  },
  {
   "cell_type": "code",
   "execution_count": 1,
   "metadata": {},
   "outputs": [],
   "source": [
    "n_kids = 21 #including tommy\n",
    "n_simulations = 500\n",
    "infection_rate = 0.02"
   ]
  },
  {
   "attachments": {},
   "cell_type": "markdown",
   "metadata": {},
   "source": [
    "## Imports"
   ]
  },
  {
   "cell_type": "code",
   "execution_count": 50,
   "metadata": {},
   "outputs": [],
   "source": [
    "import scipy.stats as stats\n",
    "import matplotlib.pyplot as plt\n",
    "import numpy as np\n",
    "import pandas as pd\n",
    "from dataclasses import dataclass"
   ]
  },
  {
   "attachments": {},
   "cell_type": "markdown",
   "metadata": {},
   "source": [
    "## Define Classes for Kid and Classroom"
   ]
  },
  {
   "cell_type": "code",
   "execution_count": 3,
   "metadata": {},
   "outputs": [],
   "source": [
    "@dataclass\n",
    "class Kid:\n",
    "    infectable: bool = True\n",
    "    immune: int = False\n",
    "    day_infected: int = None\n",
    "    recovery_time: int = 3 \n",
    "\n",
    "    #determine if kid is healthy, infected, or immune\n",
    "    def check_up(self, day):\n",
    "        if self.day_infected == None:\n",
    "            return\n",
    "        elif (day - self.day_infected) <= self.recovery_time: \n",
    "            self.infectable = False\n",
    "        else:\n",
    "            self.immune = True\n",
    "            self.infectable = False\n",
    "        \n",
    "@dataclass\n",
    "class Classroom:\n",
    "    members: list[Kid]\n",
    "    size: int = None\n",
    "    n_infectable: int = None\n",
    "    n_sick: int = None\n",
    "    n_immune: int = None\n",
    "    infection_rate: float = None\n",
    "\n",
    "    def __post_init__(self):\n",
    "        self.size = len(self.members)\n",
    "        self.n_infectable = sum([1 if kid.infectable else 0 for kid in self.members])\n",
    "        self.n_sick = self.size - self.get_n_infectable()\n",
    "        self.n_immune = self.get_n_immune()\n",
    "        self.infection_rate = self.get_infection_rate()\n",
    "\n",
    "    def get_n_infectable(self):\n",
    "        return sum([1 if kid.infectable else 0 for kid in self.members])\n",
    "    \n",
    "    def get_n_immune(self):\n",
    "        return sum([1 if kid.immune else 0 for kid in self.members])\n",
    "    \n",
    "    def get_infection_rate(self):\n",
    "        return min(self.n_sick * infection_rate, 1)\n",
    "    \n",
    "    def infect_kids(self, n_infect, day):\n",
    "        for kid in self.members:\n",
    "            if kid.infectable and n_infect > 0:\n",
    "                kid.day_infected = day\n",
    "                n_infect -= 1\n",
    "            kid.check_up(day) #update kids health status \n",
    "\n",
    "    def update(self):\n",
    "        self.n_infectable = sum([1 if kid.infectable else 0 for kid in self.members])\n",
    "        self.n_sick = self.size - (self.get_n_infectable() + self.get_n_immune())\n",
    "        self.n_immune = self.get_n_immune()\n",
    "        self.infection_rate = self.get_infection_rate()"
   ]
  },
  {
   "attachments": {},
   "cell_type": "markdown",
   "metadata": {},
   "source": [
    "# Simulate Epidemics"
   ]
  },
  {
   "cell_type": "code",
   "execution_count": 115,
   "metadata": {},
   "outputs": [],
   "source": [
    "def setup_classroom(n_kids):\n",
    "    kids = [Kid() for i in range(n_kids - 1)]\n",
    "    kids.append(Kid(infectable = False)) #Tommy\n",
    "    return Classroom(kids)\n",
    "\n",
    "def run_epidemic(classroom):\n",
    "    n_infectable_by_day = []\n",
    "    n_sick_on_day = [] #or on day?\n",
    "    n_immune_by_day =[]\n",
    "    day = 0 \n",
    "    while classroom.n_infectable > 0: \n",
    "        n_infected = stats.binom.rvs(classroom.n_infectable, classroom.infection_rate)\n",
    "        classroom.infect_kids(n_infected, day)\n",
    "        classroom.update()\n",
    "        n_infectable_by_day.append(classroom.n_infectable)\n",
    "        n_sick_on_day.append(classroom.n_sick)\n",
    "        n_immune_by_day.append(classroom.n_immune)\n",
    "        day += 1\n",
    "    return {\"n_infectable_by_day\": n_infectable_by_day, \"n_sick_on_day\": n_sick_on_day, \"n_immune_by_day\": n_immune_by_day}\n",
    "\n",
    "epidemics = []\n",
    "for i in range(n_simulations):\n",
    "    classroom = setup_classroom(n_kids)\n",
    "    epidemic = run_epidemic(classroom)\n",
    "    epidemics.append(epidemic)"
   ]
  },
  {
   "attachments": {},
   "cell_type": "markdown",
   "metadata": {},
   "source": [
    "# Simulation Result Analysis \n",
    "DONE: (a) What is the distribution of the number of kids that Tommy infects on Day 1? <br>\n",
    "DONE: (b) What is the expected number of kids that Tommy infects on Day 1? <br>\n",
    "(c) What is the expected number of kids that are infected by Day 2 (you can\n",
    "count Tommy if you want)? <br>\n",
    "(d) Simulate the number of kids that are infected on Days 1,2,. . . . Do this many\n",
    "times. <br>\n",
    "What are the (estimated) expected numbers of kids that are infected by Day i, i = 1, 2, . . .? <br> \n",
    "(e) Produce a histogram detailing how long the “epidemic” will last. <br>\n",
    "\n",
    "Note that there are various ways you can interpret some of the rules above (though\n",
    "I’ve tried to be clear). So in order to avoid huge amounts of email, simply state\n",
    "any assumptions that you feel are appropriate"
   ]
  },
  {
   "attachments": {},
   "cell_type": "markdown",
   "metadata": {},
   "source": [
    "# Distribution of Kids Infected on Day 1"
   ]
  },
  {
   "cell_type": "code",
   "execution_count": 116,
   "metadata": {},
   "outputs": [
    {
     "data": {
      "image/png": "[encoded data removed]",
      "text/plain": [
       "<Figure size 640x480 with 1 Axes>"
      ]
     },
     "metadata": {},
     "output_type": "display_data"
    }
   ],
   "source": [
    "n_infected_day_1 = [epidemic['n_sick_on_day'][0] - 1 for epidemic in epidemics] #the count of sick kids includes tommy, so subtract 1\n",
    "expected_sick_on_day_1 = np.mean(n_infected_day_1)\n",
    "\n",
    "fig, ax = plt.subplots()\n",
    "bins = np.arange(0, 5) \n",
    "counts, edges, bars = ax.hist(n_infected_day_1, bins, align='left')\n",
    "ax.bar_label(bars)\n",
    "ax.set_xlabel(\"Kids\")\n",
    "ax.set_ylabel(\"Count\")\n",
    "ax.set_title(\"Number of Kids Infected\")\n",
    "ax.spines[['right', 'top']].set_visible(False)\n",
    "ax.set_xticks(np.arange(0, 4))\n",
    "_ = ax.annotate(f\"Expected Infections: {np.round(expected_sick_on_day_1, 2)}\", xy=(0.5, .6), xycoords=\"axes fraction\") "
   ]
  },
  {
   "attachments": {},
   "cell_type": "markdown",
   "metadata": {},
   "source": [
    "Note that for part C, it says infected by day 2, but since all the kids from day 1 will be sick with a recovery period of 3 days, we can still use\n",
    "the n_sick_on_day vector"
   ]
  },
  {
   "attachments": {},
   "cell_type": "markdown",
   "metadata": {},
   "source": [
    "# Final Conclusions "
   ]
  }
 ],
 "metadata": {
  "kernelspec": {
   "display_name": "base",
   "language": "python",
   "name": "python3"
  },
  "language_info": {
   "codemirror_mode": {
    "name": "ipython",
    "version": 3
   },
   "file_extension": ".py",
   "mimetype": "text/x-python",
   "name": "python",
   "nbconvert_exporter": "python",
   "pygments_lexer": "ipython3",
   "version": "3.9.13"
  },
  "orig_nbformat": 4,
  "vscode": {
   "interpreter": {
    "hash": "1c504b7a00670ba5ae75ae99418266386080cbb1091234a33cb707b6a4e6a6d0"
   }
  }
 },
 "nbformat": 4,
 "nbformat_minor": 2
}
